{
  "nbformat": 4,
  "nbformat_minor": 0,
  "metadata": {
    "colab": {
      "provenance": []
    },
    "kernelspec": {
      "name": "python3",
      "display_name": "Python 3"
    },
    "language_info": {
      "name": "python"
    }
  },
  "cells": [
    {
      "cell_type": "code",
      "execution_count": 1,
      "metadata": {
        "colab": {
          "base_uri": "https://localhost:8080/"
        },
        "id": "q7KD8dPhWs5v",
        "outputId": "6c0c936d-be52-4d56-83d3-9cfdb389cc4f"
      },
      "outputs": [
        {
          "output_type": "stream",
          "name": "stdout",
          "text": [
            "0 0 1 1 1\n",
            "This is my hand.\n",
            "0,0,1,1,1\n"
          ]
        },
        {
          "output_type": "execute_result",
          "data": {
            "text/plain": [
              "0,0,1,1,1"
            ]
          },
          "metadata": {},
          "execution_count": 1
        }
      ],
      "source": [
        "# Question: Add the following methods:\n",
        "# Marry\n",
        "# Point\n",
        "\n",
        "#%% + Report\n",
        "\n",
        "class hand:\n",
        "    def __init__(self):\n",
        "        self.index = 0\n",
        "        self.middle = 0\n",
        "        self.ring = 0\n",
        "        self.pinky = 0\n",
        "        self.thumb = 0\n",
        "\n",
        "    def __Assign(self, assignvec):\n",
        "        self.thumb = assignvec[0]\n",
        "        self.index = assignvec[1]\n",
        "        self.middle = assignvec[2]\n",
        "        self.ring = assignvec[3]\n",
        "        self.pinky = assignvec[4]\n",
        "\n",
        "    def Okay(self):\n",
        "        self.__Assign([0,0,1,1,1])\n",
        "\n",
        "    def Report(self):\n",
        "        print(self.thumb,self.index,self.middle,self.ring,self.pinky)\n",
        "\n",
        "    def __repr__(self):\n",
        "        return \"{},{},{},{},{}\".format(self.thumb,self.index,self.middle,self.ring,self.pinky)\n",
        "\n",
        "    def __str__(self):\n",
        "        str1 = \"This is my hand.\"\n",
        "        str2 = \"{},{},{},{},{}\".format(self.thumb,self.index,self.middle,self.ring,self.pinky)\n",
        "        return str1 + '\\n' + str2\n",
        "\n",
        "h = hand()\n",
        "h.Okay()\n",
        "h.Report()\n",
        "print(h)\n",
        "h\n",
        "\n",
        "#%% Questions\n",
        "\n",
        "# Create a handshake function that sets two hands to a handshake position = [0,1,1,1,1]"
      ]
    }
  ]
}