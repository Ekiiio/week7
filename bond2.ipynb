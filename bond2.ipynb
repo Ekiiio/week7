{
  "nbformat": 4,
  "nbformat_minor": 0,
  "metadata": {
    "colab": {
      "provenance": [],
      "authorship_tag": "ABX9TyNyeTcufA2Jgf4QKNau4bv2",
      "include_colab_link": true
    },
    "kernelspec": {
      "name": "python3",
      "display_name": "Python 3"
    },
    "language_info": {
      "name": "python"
    }
  },
  "cells": [
    {
      "cell_type": "markdown",
      "metadata": {
        "id": "view-in-github",
        "colab_type": "text"
      },
      "source": [
        "<a href=\"https://colab.research.google.com/github/tleitchColumbia/week7/blob/main/bond2.ipynb\" target=\"_parent\"><img src=\"https://colab.research.google.com/assets/colab-badge.svg\" alt=\"Open In Colab\"/></a>"
      ]
    },
    {
      "cell_type": "code",
      "execution_count": 4,
      "metadata": {
        "colab": {
          "base_uri": "https://localhost:8080/"
        },
        "id": "yYeLP5gXj3Yb",
        "outputId": "0fa44343-9ed7-4c6d-b4ed-459ad1175be9"
      },
      "outputs": [
        {
          "output_type": "stream",
          "name": "stdout",
          "text": [
            "7000000.0,0.02,0.034,6\n"
          ]
        }
      ],
      "source": [
        "\n",
        "import numpy as np\n",
        "\n",
        "\n",
        "class bond:\n",
        "    def __init__(self):\n",
        "        self.face = (round(np.random.uniform()*10,0)+1)*1e6\n",
        "        self.couponRate = round(np.random.uniform()/3,3)\n",
        "        self.pmtperyear = int(round(np.random.uniform(),0)+1)\n",
        "        self.m = int(round(np.random.uniform()*10,0))\n",
        "        self.ytm = round(np.random.uniform()/3,3)\n",
        "        self.m = round(np.random.uniform()*5+5)\n",
        "        self.price = 0\n",
        "        self.duration = 0\n",
        "    def __repr__(self):\n",
        "        return \"{},{},{},{}\".format(self.face,self.ytm,self.couponRate,self.m)\n",
        "\n",
        "b1 = bond()\n",
        "print(b1)\n",
        "\n"
      ]
    },
    {
      "cell_type": "code",
      "execution_count": 3,
      "metadata": {
        "colab": {
          "base_uri": "https://localhost:8080/"
        },
        "outputId": "b0455bab-76e1-45d6-d741-ca8f132b356d",
        "id": "HdZ4A-dUmdIc"
      },
      "outputs": [
        {
          "output_type": "stream",
          "name": "stdout",
          "text": [
            "6000000.0,0.315,0.292,6\n",
            "2000000.0,100,0.03,0.04\n"
          ]
        }
      ],
      "source": [
        "\n",
        "\n",
        "\n",
        "#%%\n",
        "\n",
        "class bond:\n",
        "    def __init__(self):\n",
        "        self.face = (round(np.random.uniform()*10,0)+1)*1e6\n",
        "        self.couponrate = round(np.random.uniform()/3,3)\n",
        "        self.pmtperyear = int(round(np.random.uniform(),0)+1)\n",
        "        self.m = int(round(np.random.uniform()*10,0))\n",
        "        self.ytm = round(np.random.uniform()/3,3)\n",
        "        self.m = round(np.random.uniform()*5+5)\n",
        "        self.price = 0\n",
        "        self.duration = 0\n",
        "    def __repr__(self):\n",
        "        return \"{},{},{},{}\".format(self.face,self.ytm,self.couponrate,self.m)\n",
        "    def Assign(self,face,couponrate,m,ytm,pmtperyear):\n",
        "        self.face = face\n",
        "        self.couponrate = couponrate\n",
        "        self.pmtperyear = pmtperyear\n",
        "        self.m = m\n",
        "        self.ytm = ytm\n",
        "\n",
        "b2 = bond()\n",
        "print(b2)\n",
        "b2.Assign(2e6,.03,.04,100,1)\n",
        "print(b2)\n",
        "\n",
        "\n",
        "\n"
      ]
    },
    {
      "cell_type": "code",
      "execution_count": 6,
      "metadata": {
        "colab": {
          "base_uri": "https://localhost:8080/"
        },
        "outputId": "a3556598-5817-4378-e68a-601cd6b88a68",
        "id": "YHmACGs2mdcU"
      },
      "outputs": [
        {
          "output_type": "stream",
          "name": "stdout",
          "text": [
            "0\n",
            "2170604.0567355165\n",
            "8.508690304459574\n"
          ]
        }
      ],
      "source": [
        "\n",
        "\n",
        "\n",
        "\n",
        "#%%\n",
        "\n",
        "class bond:\n",
        "    def __init__(self):\n",
        "        self.face = (round(np.random.uniform()*10,0)+1)*1e6\n",
        "        self.couponrate = round(np.random.uniform()/3,3)\n",
        "        self.pmtperyear = int(round(np.random.uniform(),0)+1)\n",
        "        self.m = int(round(np.random.uniform()*10,0))\n",
        "        self.ytm = round(np.random.uniform()/3,3)\n",
        "        self.m = round(np.random.uniform()*5+5)\n",
        "        self.price = 0\n",
        "        self.duration = 0\n",
        "    def __repr__(self):\n",
        "        return \"{},{},{},{},{},{}\".format(self.face,self.ytm,self.couponrate,self.m,round(self.price,2),round(self.duration,2))\n",
        "    def Assign(self,face,ytm,couponrate,m,pmtperyear):\n",
        "        self.face = face\n",
        "        self.couponrate = couponrate\n",
        "        self.pmtperyear = pmtperyear\n",
        "        self.m = m\n",
        "        self.ytm = ytm\n",
        "    def getPrice(self):\n",
        "        face = self.face\n",
        "        couponrate = self.couponrate\n",
        "        pmtperyear = self.pmtperyear\n",
        "        m = self.m\n",
        "        y = self.ytm\n",
        "\n",
        "        C = face * couponrate / pmtperyear\n",
        "        n = m * pmtperyear\n",
        "        y_eff = y/pmtperyear\n",
        "        B = 0\n",
        "        for i in range(1,n+1):\n",
        "            pv = (1+y_eff)**(-i)\n",
        "            B_i = C * pv\n",
        "            B += B_i\n",
        "        B += face * pv\n",
        "        self.price = B\n",
        "    def getDuration(self):\n",
        "        face = self.face\n",
        "        couponrate = self.couponrate\n",
        "        pmtperyear = self.pmtperyear\n",
        "        m = self.m\n",
        "        y = self.ytm\n",
        "        C = face * couponrate / pmtperyear\n",
        "        n = m * pmtperyear\n",
        "        y_eff = y/pmtperyear\n",
        "        B = 0\n",
        "        Btime = 0\n",
        "        for i in range(1,n+1):\n",
        "            pv = (1+y_eff)**(-i)\n",
        "            B_i = C * pv\n",
        "            B += B_i\n",
        "            Btime_i = i * B_i\n",
        "            Btime += Btime_i\n",
        "        B += face * pv\n",
        "        Btime += face * pv * i\n",
        "        self.duration = Btime/B\n",
        "\n",
        "b3 = bond()\n",
        "b3.Assign(2e6,.03,.04,10,1)\n",
        "print(b3.price)\n",
        "b3.getPrice()\n",
        "print(b3.price)\n",
        "b3.getDuration()\n",
        "print(b3.duration)"
      ]
    },
    {
      "cell_type": "code",
      "source": [
        "bonds = []\n",
        "n = 5\n",
        "for i in range(n):\n",
        "    bonds.append(bond())\n",
        "\n",
        "#%%\n",
        "for b in bonds:\n",
        "    print(b)\n",
        "\n",
        "#%%\n",
        "for b in bonds:\n",
        "    b.getPrice()\n",
        "    b.getDuration()\n",
        "\n",
        "#%%\n",
        "for b in bonds:\n",
        "    print(b)\n",
        "\n",
        "#%%\n",
        "def PortfolioDuration(bonds):\n",
        "    num = 0\n",
        "    den = 0\n",
        "    for x in bonds:\n",
        "        D_i = x.duration\n",
        "        w_i = x.price\n",
        "        num += D_i * w_i\n",
        "        den += w_i\n",
        "    duration = num/den\n",
        "    return(duration)\n",
        "\n",
        "#%%\n",
        "print(PortfolioDuration(bonds))\n"
      ],
      "metadata": {
        "id": "n45kCS93wYVz",
        "outputId": "af04025a-2a18-4ee7-b926-176c216e7231",
        "colab": {
          "base_uri": "https://localhost:8080/"
        }
      },
      "execution_count": 7,
      "outputs": [
        {
          "output_type": "stream",
          "name": "stdout",
          "text": [
            "1000000.0,0.227,0.125,7,0,0\n",
            "7000000.0,0.168,0.091,8,0,0\n",
            "1000000.0,0.217,0.155,8,0,0\n",
            "4000000.0,0.325,0.3,7,0,0\n",
            "3000000.0,0.034,0.089,6,0,0\n",
            "1000000.0,0.227,0.125,7,650410.41,8.61\n",
            "7000000.0,0.168,0.091,8,4717934.84,5.54\n",
            "1000000.0,0.217,0.155,8,773661.22,4.72\n",
            "4000000.0,0.325,0.3,7,3729685.62,6.36\n",
            "3000000.0,0.034,0.089,6,3888759.11,9.89\n",
            "7.093065283011313\n"
          ]
        }
      ]
    }
  ]
}