{
  "nbformat": 4,
  "nbformat_minor": 0,
  "metadata": {
    "colab": {
      "provenance": [],
      "include_colab_link": true
    },
    "kernelspec": {
      "name": "python3",
      "display_name": "Python 3"
    },
    "language_info": {
      "name": "python"
    }
  },
  "cells": [
    {
      "cell_type": "markdown",
      "metadata": {
        "id": "view-in-github",
        "colab_type": "text"
      },
      "source": [
        "<a href=\"https://colab.research.google.com/github/Ekiiio/week7/blob/main/bond2.ipynb\" target=\"_parent\"><img src=\"https://colab.research.google.com/assets/colab-badge.svg\" alt=\"Open In Colab\"/></a>"
      ]
    },
    {
      "cell_type": "code",
      "execution_count": 1,
      "metadata": {
        "colab": {
          "base_uri": "https://localhost:8080/"
        },
        "id": "yYeLP5gXj3Yb",
        "outputId": "d1da5dbb-386a-4948-c9cb-a2700ea207a0"
      },
      "outputs": [
        {
          "output_type": "stream",
          "name": "stdout",
          "text": [
            "9000000.0,0.16,0.161,8\n"
          ]
        }
      ],
      "source": [
        "\n",
        "import numpy as np\n",
        "\n",
        "\n",
        "class bond:\n",
        "    def __init__(self):\n",
        "        self.face = (round(np.random.uniform()*10,0)+1)*1e6\n",
        "        self.couponRate = round(np.random.uniform()/3,3)\n",
        "        self.pmtperyear = int(round(np.random.uniform(),0)+1)\n",
        "        self.m = int(round(np.random.uniform()*10,0))\n",
        "        self.ytm = round(np.random.uniform()/3,3)\n",
        "        self.m = round(np.random.uniform()*5+5)\n",
        "        self.price = 0\n",
        "        self.duration = 0\n",
        "    def __repr__(self):\n",
        "        return \"{},{},{},{}\".format(self.face,self.ytm,self.couponRate,self.m)\n",
        "\n",
        "b1 = bond()\n",
        "print(b1)\n",
        "\n"
      ]
    },
    {
      "cell_type": "code",
      "source": [
        "b1.ytm=.03"
      ],
      "metadata": {
        "id": "w5WbWoJC0sLJ"
      },
      "execution_count": 2,
      "outputs": []
    },
    {
      "cell_type": "code",
      "source": [
        "print(b1)"
      ],
      "metadata": {
        "id": "IjTHBqjv0v5P",
        "outputId": "eab8a534-4cb7-4c42-9a4c-1a8480de25be",
        "colab": {
          "base_uri": "https://localhost:8080/"
        }
      },
      "execution_count": 3,
      "outputs": [
        {
          "output_type": "stream",
          "name": "stdout",
          "text": [
            "9000000.0,0.03,0.161,8\n"
          ]
        }
      ]
    },
    {
      "cell_type": "code",
      "execution_count": null,
      "metadata": {
        "colab": {
          "base_uri": "https://localhost:8080/"
        },
        "outputId": "b0455bab-76e1-45d6-d741-ca8f132b356d",
        "id": "HdZ4A-dUmdIc"
      },
      "outputs": [
        {
          "output_type": "stream",
          "name": "stdout",
          "text": [
            "6000000.0,0.315,0.292,6\n",
            "2000000.0,100,0.03,0.04\n"
          ]
        }
      ],
      "source": [
        "\n",
        "\n",
        "\n",
        "#%%\n",
        "\n",
        "class bond:\n",
        "    def __init__(self):\n",
        "        self.face = (round(np.random.uniform()*10,0)+1)*1e6\n",
        "        self.couponrate = round(np.random.uniform()/3,3)\n",
        "        self.pmtperyear = int(round(np.random.uniform(),0)+1)\n",
        "        self.m = int(round(np.random.uniform()*10,0))\n",
        "        self.ytm = round(np.random.uniform()/3,3)\n",
        "        self.m = round(np.random.uniform()*5+5)\n",
        "        self.price = 0\n",
        "        self.duration = 0\n",
        "    def __repr__(self):\n",
        "        return \"{},{},{},{}\".format(self.face,self.ytm,self.couponrate,self.m)\n",
        "    def Assign(self,face,couponrate,m,ytm,pmtperyear):\n",
        "        self.face = face\n",
        "        self.couponrate = couponrate\n",
        "        self.pmtperyear = pmtperyear\n",
        "        self.m = m\n",
        "        self.ytm = ytm\n",
        "\n",
        "b2 = bond()\n",
        "print(b2)\n",
        "b2.Assign(2e6,.03,.04,100,1)\n",
        "print(b2)\n",
        "\n",
        "\n",
        "\n"
      ]
    },
    {
      "cell_type": "code",
      "execution_count": 5,
      "metadata": {
        "colab": {
          "base_uri": "https://localhost:8080/"
        },
        "outputId": "e9cab5a2-b202-440d-cd9a-11997b250ba8",
        "id": "YHmACGs2mdcU"
      },
      "outputs": [
        {
          "output_type": "stream",
          "name": "stdout",
          "text": [
            "0\n",
            "2170604.0567355165\n",
            "8.508690304459574\n"
          ]
        }
      ],
      "source": [
        "\n",
        "\n",
        "\n",
        "\n",
        "#%%\n",
        "\n",
        "class bond:\n",
        "    def __init__(self):\n",
        "        self.face = (round(np.random.uniform()*10,0)+1)*1e6\n",
        "        self.couponrate = round(np.random.uniform()/3,3)\n",
        "        self.pmtperyear = int(round(np.random.uniform(),0)+1)\n",
        "        self.m = int(round(np.random.uniform()*10,0))\n",
        "        self.ytm = round(np.random.uniform()/3,3)\n",
        "        self.m = round(np.random.uniform()*5+5)\n",
        "        self.price = 0\n",
        "        self.duration = 0\n",
        "    def __repr__(self):\n",
        "        return \"{},{},{},{},{},{}\".format(self.face,self.ytm,self.couponrate,self.m,round(self.price,2),round(self.duration,2))\n",
        "    def Assign(self,face,ytm,couponrate,m,pmtperyear):\n",
        "        self.face = face\n",
        "        self.couponrate = couponrate\n",
        "        self.pmtperyear = pmtperyear\n",
        "        self.m = m\n",
        "        self.ytm = ytm\n",
        "    def getPrice(self):\n",
        "        face = self.face\n",
        "        couponrate = self.couponrate\n",
        "        pmtperyear = self.pmtperyear\n",
        "        m = self.m\n",
        "        y = self.ytm\n",
        "\n",
        "        C = face * couponrate / pmtperyear\n",
        "        n = m * pmtperyear\n",
        "        y_eff = y/pmtperyear\n",
        "        B = 0\n",
        "        for i in range(1,n+1):\n",
        "            pv = (1+y_eff)**(-i)\n",
        "            B_i = C * pv\n",
        "            B += B_i\n",
        "        B += face * pv\n",
        "        self.price = B\n",
        "    def getDuration(self):\n",
        "        face = self.face\n",
        "        couponrate = self.couponrate\n",
        "        pmtperyear = self.pmtperyear\n",
        "        m = self.m\n",
        "        y = self.ytm\n",
        "        C = face * couponrate / pmtperyear\n",
        "        n = m * pmtperyear\n",
        "        y_eff = y/pmtperyear\n",
        "        B = 0\n",
        "        Btime = 0\n",
        "        for i in range(1,n+1):\n",
        "            pv = (1+y_eff)**(-i)\n",
        "            B_i = C * pv\n",
        "            B += B_i\n",
        "            Btime_i = i * B_i\n",
        "            Btime += Btime_i\n",
        "        B += face * pv\n",
        "        Btime += face * pv * i\n",
        "        self.duration = Btime/B\n",
        "\n",
        "b3 = bond()\n",
        "b3.Assign(2e6,.03,.04,10,1)\n",
        "print(b3.price)\n",
        "b3.getPrice()\n",
        "print(b3.price)\n",
        "b3.getDuration()\n",
        "print(b3.duration)"
      ]
    },
    {
      "cell_type": "code",
      "source": [
        "bonds = []\n",
        "n = 5\n",
        "for i in range(n):\n",
        "    bonds.append(bond())\n",
        "\n",
        "#%%\n",
        "for b in bonds:\n",
        "    print(b)\n",
        "\n",
        "#%%\n",
        "for b in bonds:\n",
        "    b.getPrice()\n",
        "    b.getDuration()\n",
        "\n",
        "#%%\n",
        "for b in bonds:\n",
        "    print(b)\n",
        "\n",
        "#%%\n",
        "def PortfolioDuration(bonds):\n",
        "    num = 0\n",
        "    den = 0\n",
        "    for x in bonds:\n",
        "        D_i = x.duration\n",
        "        w_i = x.price\n",
        "        num += D_i * w_i\n",
        "        den += w_i\n",
        "    duration = num/den\n",
        "    return(duration)\n",
        "\n",
        "#%%\n",
        "print(PortfolioDuration(bonds))\n"
      ],
      "metadata": {
        "id": "n45kCS93wYVz",
        "outputId": "8abe1323-b523-4d4a-b1e9-46d54fd6a667",
        "colab": {
          "base_uri": "https://localhost:8080/"
        }
      },
      "execution_count": 6,
      "outputs": [
        {
          "output_type": "stream",
          "name": "stdout",
          "text": [
            "9000000.0,0.174,0.297,9,0,0\n",
            "6000000.0,0.264,0.29,5,0,0\n",
            "6000000.0,0.248,0.271,7,0,0\n",
            "2000000.0,0.268,0.082,9,0,0\n",
            "9000000.0,0.117,0.133,6,0,0\n",
            "9000000.0,0.174,0.297,9,13860360.94,4.74\n",
            "6000000.0,0.264,0.29,5,6407768.21,3.26\n",
            "6000000.0,0.248,0.271,7,6448134.01,7.19\n",
            "2000000.0,0.268,0.082,9,756275.8,9.57\n",
            "9000000.0,0.117,0.133,6,9597107.34,4.54\n",
            "4.9554717154071035\n"
          ]
        }
      ]
    }
  ]
}