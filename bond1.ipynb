{
  "nbformat": 4,
  "nbformat_minor": 0,
  "metadata": {
    "colab": {
      "provenance": [],
      "authorship_tag": "ABX9TyORT/jIWl0RevFCrpRMNGE9",
      "include_colab_link": true
    },
    "kernelspec": {
      "name": "python3",
      "display_name": "Python 3"
    },
    "language_info": {
      "name": "python"
    }
  },
  "cells": [
    {
      "cell_type": "markdown",
      "metadata": {
        "id": "view-in-github",
        "colab_type": "text"
      },
      "source": [
        "<a href=\"https://colab.research.google.com/github/tleitchColumbia/week7/blob/main/bond1.ipynb\" target=\"_parent\"><img src=\"https://colab.research.google.com/assets/colab-badge.svg\" alt=\"Open In Colab\"/></a>"
      ]
    },
    {
      "cell_type": "code",
      "execution_count": null,
      "metadata": {
        "id": "IiGT7CHhiiID"
      },
      "outputs": [],
      "source": [
        "face = 2000000\n",
        "ytm = .03\n",
        "couponrate = .04\n",
        "maturity = 10\n",
        "\n",
        "\n",
        "class bond():\n",
        "    def __init__(self,face,ytm,couponrate,m):\n",
        "        self.face = face\n",
        "        self.ytm = ytm\n",
        "        self.couponrate = couponrate\n",
        "        self.m = m\n",
        "\n",
        "# Look at the bond instance\n",
        "b1 = bond(2e6,.03,.04,10)\n",
        "b1\n",
        "\n",
        "# Look at the print function\n",
        "print(b1)\n",
        "\n",
        "\n",
        "#%%\n",
        "# the __repr__ function\n",
        "class bond():\n",
        "    def __init__(self,face,ytm,couponrate,m):\n",
        "        self.face = face\n",
        "        self.ytm = ytm\n",
        "        self.couponrate = couponrate\n",
        "        self.maturity = m\n",
        "    def __repr__(self):\n",
        "        return \"{},{},{},{},\".format(self.face,self.ytm,self.couponrate,self.maturity)\n",
        "\n",
        "\n",
        "\n",
        "# Look at the bond instance\n",
        "b2 = bond(2e6,.03,.04,10)\n",
        "print(b2)\n",
        "\n",
        "\n",
        "#%%\n",
        "# The __str__ function\n",
        "class bond():\n",
        "    def __init__(self,face,ytm,couponrate,maturity):\n",
        "        self.face = face\n",
        "        self.ytm = ytm\n",
        "        self.couponrate = couponrate\n",
        "        self.maturity = maturity\n",
        "    def __repr__(self):\n",
        "        return \"{},{},{},{}\".format(self.face,self.ytm,self.couponrate,self.maturity)\n",
        "    def __str__(self):\n",
        "        return \"I'm James Bond\"\n",
        "\n",
        "b3 = bond(2e6,.03,.04,10)\n",
        "print(b3)\n"
      ]
    }
  ]
}