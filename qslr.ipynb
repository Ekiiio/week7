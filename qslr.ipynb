{
  "nbformat": 4,
  "nbformat_minor": 0,
  "metadata": {
    "colab": {
      "provenance": [],
      "authorship_tag": "ABX9TyM3HMZCz0en2CR96KgW6/Lt",
      "include_colab_link": true
    },
    "kernelspec": {
      "name": "python3",
      "display_name": "Python 3"
    },
    "language_info": {
      "name": "python"
    }
  },
  "cells": [
    {
      "cell_type": "markdown",
      "metadata": {
        "id": "view-in-github",
        "colab_type": "text"
      },
      "source": [
        "<a href=\"https://colab.research.google.com/github/tleitchColumbia/week7/blob/main/qslr.ipynb\" target=\"_parent\"><img src=\"https://colab.research.google.com/assets/colab-badge.svg\" alt=\"Open In Colab\"/></a>"
      ]
    },
    {
      "cell_type": "code",
      "execution_count": 5,
      "metadata": {
        "colab": {
          "base_uri": "https://localhost:8080/"
        },
        "id": "qXZORqa8z3pQ",
        "outputId": "9c5fd19d-2617-4d0d-c18f-29cc038ace5e"
      },
      "outputs": [
        {
          "output_type": "stream",
          "name": "stderr",
          "text": [
            "/usr/local/lib/python3.11/dist-packages/statsmodels/stats/stattools.py:74: ValueWarning: omni_normtest is not valid with less than 8 observations; 3 samples were given.\n",
            "  warn(\"omni_normtest is not valid with less than 8 observations; %i \"\n"
          ]
        },
        {
          "output_type": "stream",
          "name": "stdout",
          "text": [
            "                            OLS Regression Results                            \n",
            "==============================================================================\n",
            "Dep. Variable:                      y   R-squared:                       0.998\n",
            "Model:                            OLS   Adj. R-squared:                  0.997\n",
            "Method:                 Least Squares   F-statistic:                     632.2\n",
            "Date:                Wed, 05 Mar 2025   Prob (F-statistic):             0.0253\n",
            "Time:                        01:01:49   Log-Likelihood:                 4.0368\n",
            "No. Observations:                   3   AIC:                            -4.074\n",
            "Df Residuals:                       1   BIC:                            -5.876\n",
            "Df Model:                           1                                         \n",
            "Covariance Type:            nonrobust                                         \n",
            "==============================================================================\n",
            "                 coef    std err          t      P>|t|      [0.025      0.975]\n",
            "------------------------------------------------------------------------------\n",
            "Intercept      0.0051      0.167      0.031      0.980      -2.113       2.123\n",
            "x              1.9403      0.077     25.144      0.025       0.960       2.921\n",
            "==============================================================================\n",
            "Omnibus:                          nan   Durbin-Watson:                   3.000\n",
            "Prob(Omnibus):                    nan   Jarque-Bera (JB):                0.531\n",
            "Skew:                          -0.707   Prob(JB):                        0.767\n",
            "Kurtosis:                       1.500   Cond. No.                         6.79\n",
            "==============================================================================\n",
            "\n",
            "Notes:\n",
            "[1] Standard Errors assume that the covariance matrix of the errors is correctly specified.\n",
            "                            OLS Regression Results                            \n",
            "==============================================================================\n",
            "Dep. Variable:                      y   R-squared:                       0.996\n",
            "Model:                            OLS   Adj. R-squared:                  0.993\n",
            "Method:                 Least Squares   F-statistic:                     278.5\n",
            "Date:                Wed, 05 Mar 2025   Prob (F-statistic):             0.0381\n",
            "Time:                        01:01:50   Log-Likelihood:                 2.5512\n",
            "No. Observations:                   3   AIC:                            -1.102\n",
            "Df Residuals:                       1   BIC:                            -2.905\n",
            "Df Model:                           1                                         \n",
            "Covariance Type:            nonrobust                                         \n",
            "==============================================================================\n",
            "                 coef    std err          t      P>|t|      [0.025      0.975]\n",
            "------------------------------------------------------------------------------\n",
            "Intercept     -0.0597      0.274     -0.218      0.863      -3.535       3.416\n",
            "x              2.1132      0.127     16.690      0.038       0.504       3.722\n",
            "==============================================================================\n",
            "Omnibus:                          nan   Durbin-Watson:                   3.000\n",
            "Prob(Omnibus):                    nan   Jarque-Bera (JB):                0.531\n",
            "Skew:                          -0.707   Prob(JB):                        0.767\n",
            "Kurtosis:                       1.500   Cond. No.                         6.79\n",
            "==============================================================================\n",
            "\n",
            "Notes:\n",
            "[1] Standard Errors assume that the covariance matrix of the errors is correctly specified.\n"
          ]
        },
        {
          "output_type": "stream",
          "name": "stderr",
          "text": [
            "/usr/local/lib/python3.11/dist-packages/statsmodels/stats/stattools.py:74: ValueWarning: omni_normtest is not valid with less than 8 observations; 3 samples were given.\n",
            "  warn(\"omni_normtest is not valid with less than 8 observations; %i \"\n",
            "<ipython-input-5-e9ac1455d86a>:42: FutureWarning: Series.__getitem__ treating keys as positions is deprecated. In a future version, integer keys will always be treated as labels (consistent with DataFrame behavior). To access a value by position, use `ser.iloc[pos]`\n",
            "  np.round(x.params[0], 4) == 4.3066\n",
            "<ipython-input-5-e9ac1455d86a>:44: FutureWarning: Series.__getitem__ treating keys as positions is deprecated. In a future version, integer keys will always be treated as labels (consistent with DataFrame behavior). To access a value by position, use `ser.iloc[pos]`\n",
            "  np.round(x.params[0], 4) == 4.3066\n"
          ]
        },
        {
          "output_type": "execute_result",
          "data": {
            "text/plain": [
              "True"
            ]
          },
          "metadata": {},
          "execution_count": 5
        }
      ],
      "source": [
        "import numpy as np\n",
        "import pandas as pd\n",
        "import statsmodels.api as sm\n",
        "import statsmodels.formula.api as smf\n",
        "\n",
        "def MyLM(formula, data):\n",
        "    fit = # populate the smf.ols function using the formula and fit it\n",
        "    return fit\n",
        "\n",
        "# Tools\n",
        "x = np.arange(1, 4)\n",
        "y = x * np.random.normal(2, 0.1, 3)\n",
        "f = \"y ~ x\"\n",
        "df = pd.DataFrame({'x': x, 'y': y})\n",
        "model = smf.ols(f, data=df).fit()\n",
        "print(model.summary())\n",
        "\n",
        "# Unit Tests\n",
        "from sklearn.datasets import load_iris\n",
        "data = load_iris()\n",
        "iris = pd.DataFrame(data=data.data, columns=data.feature_names)\n",
        "# Rename columns to remove spaces and parentheses\n",
        "import numpy as np\n",
        "import pandas as pd\n",
        "import statsmodels.api as sm\n",
        "import statsmodels.formula.api as smf\n",
        "\n",
        "\n",
        "# Tools\n",
        "x = np.arange(1, 4)\n",
        "y = x * np.random.normal(2, 0.1, 3)\n",
        "f = \"y ~ x\"\n",
        "df = pd.DataFrame({'x': x, 'y': y})\n",
        "model = smf.ols(f, data=df).fit()\n",
        "print(model.summary())\n",
        "\n",
        "# Unit Tests\n",
        "from sklearn.datasets import load_iris\n",
        "data = load_iris()\n",
        "iris = pd.DataFrame(data=data.data, columns=data.feature_names)\n",
        "# Rename columns to remove spaces and parentheses\n",
        "iris.columns = iris.columns.str.replace(' ', '_').str.replace('(', '').str.replace(')', '')\n",
        "# Define the formula with the modified column names\n",
        "myFormula = \"sepal_length_cm ~ petal_length_cm\"\n",
        "fit_iris = smf.ols(formula=myFormula, data=iris).fit()\n",
        "\n",
        "x = MyLM(myFormula, iris)\n",
        "np.round(x.params[0], 4) == 4.3066\n",
        "x = MyLM(myFormula, iris)\n",
        "np.round(x.params[0], 4) == 4.3066\n"
      ]
    },
    {
      "cell_type": "code",
      "source": [
        "\n",
        "pip install rdatasets\n",
        "from rdatasets import data\n",
        "\n",
        "import numpy as np\n",
        "import matplotlib.pyplot as plt\n",
        "import statsmodels.api as sm\n",
        "import pandas as pd\n",
        "\n",
        "# Load the 'cars' dataset\n",
        "df_cars = data('cars')\n",
        "\n",
        "def PlotSLRCI(fit, data):\n",
        "  # Plot the data\n",
        "  # Plot the lower confidence interval\n",
        "  # Plot the upper confidence interval\n"
      ],
      "metadata": {
        "id": "uUeZdK_Cz64k"
      },
      "execution_count": null,
      "outputs": []
    }
  ]
}